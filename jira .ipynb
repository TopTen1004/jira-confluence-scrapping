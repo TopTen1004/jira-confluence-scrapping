{
 "cells": [
  {
   "cell_type": "code",
   "execution_count": 112,
   "id": "7ac7783c",
   "metadata": {},
   "outputs": [],
   "source": [
    "from jira import JIRA\n",
    "import pandas as pd \n",
    "import requests\n",
    "import json"
   ]
  },
  {
   "cell_type": "markdown",
   "id": "53a8b3e1",
   "metadata": {},
   "source": []
  },
  {
   "cell_type": "code",
   "execution_count": null,
   "id": "c0e7cc45",
   "metadata": {},
   "outputs": [],
   "source": [
    "url = \"https://jiraconfluencetesting.atlassian.net/wiki/rest/api/content/229377/child/attachment\"\n",
    "r = requests.get(url, auth=('ejttuk9421@gmail.com','vpCPV5XOPoHEyUWAQpyhDE59'))\n",
    "r\n"
   ]
  },
  {
   "cell_type": "code",
   "execution_count": null,
   "id": "bcc37158",
   "metadata": {},
   "outputs": [],
   "source": [
    "res = r.json()\n"
   ]
  },
  {
   "cell_type": "code",
   "execution_count": null,
   "id": "ab461d30",
   "metadata": {},
   "outputs": [],
   "source": [
    "site_url = \"https://jiraconfluencetesting.atlassian.net/wiki\"\n",
    "res_result = res['results']\n",
    "for attachment in res_result:\n",
    "    fname = attachment['title']\n",
    "    print(fname)\n",
    "    download_link = site_url+ attachment['_links']['download']\n",
    "    print(download_link)    \n",
    "    r = requests.get(download_link, auth=('ejttuk9421@gmail.com','vpCPV5XOPoHEyUWAQpyhDE59'))\n",
    "    print(r)\n",
    "    if r.status_code ==200:\n",
    "        print(\"okk\")\n",
    "        with open(fname, \"wb\") as f:\n",
    "            for bits in r.iter_content():\n",
    "                f.write(bits)"
   ]
  },
  {
   "cell_type": "code",
   "execution_count": 4,
   "id": "24302459",
   "metadata": {},
   "outputs": [],
   "source": [
    "# load csv file \n",
    "issues = pd.DataFrame()\n",
    "issues = pd.read_csv(r'test_csv.csv')"
   ]
  },
  {
   "cell_type": "code",
   "execution_count": null,
   "id": "f65cf90c",
   "metadata": {},
   "outputs": [],
   "source": [
    "issues.head()"
   ]
  },
  {
   "cell_type": "code",
   "execution_count": null,
   "id": "cf0edff1",
   "metadata": {},
   "outputs": [],
   "source": [
    "# removing unneed jira items\n",
    "issues.drop('summary', inplace=True, axis=1)"
   ]
  },
  {
   "cell_type": "code",
   "execution_count": 38,
   "id": "25d2c2dc",
   "metadata": {},
   "outputs": [],
   "source": [
    "# connectin to jira\n",
    "server = \"https://issues.apache.org/jira/\"\n",
    "jql = 'project = \"SPARK\"'\n",
    "options = {\"server\": server}\n",
    "conn = JIRA(options, basic_auth=(\"user\", \"passwd\"))"
   ]
  },
  {
   "cell_type": "code",
   "execution_count": 114,
   "id": "ba19d084",
   "metadata": {},
   "outputs": [],
   "source": [
    "# sample issue\n",
    "# issue_list = [\n",
    "# {\n",
    "#     'project': 'SPARK',\n",
    "#     \"components\" : [\n",
    "#                     { \n",
    "#                     \"name\": \"ML\",\n",
    "#                     }\n",
    "#                 ],\n",
    "#     \"versions\": [\n",
    "#                     {\n",
    "#                         \"name\": \"3.2.0\",                    \n",
    "#                     }\n",
    "#             ],        \n",
    "#     'summary': 'Last issue',\n",
    "#     'description': 'This test for rest api',\n",
    "#     'issuetype': {\n",
    "#           \"id\": \"4\"\n",
    "#        },\n",
    "# }]"
   ]
  },
  {
   "cell_type": "code",
   "execution_count": 31,
   "id": "482cfce9",
   "metadata": {},
   "outputs": [
    {
     "name": "stdout",
     "output_type": "stream",
     "text": [
      "[{'summary': 'summary test 2', 'description': 'description test 2', 'priority': 'low'}, {'summary': 'summary test 2', 'description': 'description test 2', 'priority': 'low'}]\n"
     ]
    }
   ],
   "source": [
    "issue_list = {}\n",
    "Dict = {}\n",
    "for i in range(len(issues)):\n",
    "    for j in range(len(issues.columns)):\n",
    "        Dict[issues.columns[j]] = issues[issues.columns[j]][i]\n",
    "    issue_list.append(Dict)\n",
    "print(issue_list)"
   ]
  },
  {
   "cell_type": "code",
   "execution_count": null,
   "id": "dd873e10",
   "metadata": {},
   "outputs": [],
   "source": [
    "\n",
    "conn.create_issues(field_list=issue_list)\n"
   ]
  },
  {
   "cell_type": "code",
   "execution_count": null,
   "id": "cf61e2ae",
   "metadata": {},
   "outputs": [],
   "source": [
    "# check issue\n",
    "issue = conn.issue('SPARK-38367')\n",
    "issue.fields.summary"
   ]
  },
  {
   "cell_type": "code",
   "execution_count": null,
   "id": "77da0f99",
   "metadata": {},
   "outputs": [],
   "source": [
    "conn.create_issues(field_list=issue_list)"
   ]
  }
 ],
 "metadata": {
  "kernelspec": {
   "display_name": "Python 3 (ipykernel)",
   "language": "python",
   "name": "python3"
  },
  "language_info": {
   "codemirror_mode": {
    "name": "ipython",
    "version": 3
   },
   "file_extension": ".py",
   "mimetype": "text/x-python",
   "name": "python",
   "nbconvert_exporter": "python",
   "pygments_lexer": "ipython3",
   "version": "3.9.10"
  }
 },
 "nbformat": 4,
 "nbformat_minor": 5
}
